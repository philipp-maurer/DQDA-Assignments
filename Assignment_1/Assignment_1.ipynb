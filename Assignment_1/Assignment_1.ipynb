{
 "cells": [
  {
   "cell_type": "markdown",
   "metadata": {},
   "source": [
    "# Assignment 1 - Python coding warm up\n",
    "## Play with cookie"
   ]
  },
  {
   "cell_type": "markdown",
   "metadata": {},
   "source": [
    " Erstelle ein Spiel welches beim Start eine zufällig gewählte Ganzzahl zwischen 1 und 25 generiert. Der Benutzer soll dann mittels Aufruf einer geeigneten Methode eine Zahl eingeben können und das Programm teilt dem Benutzer mit ob die generierte Zahl höher oder niedriger ist. Der Benutzer soll maximal 5 Versuche haben die richtige Zahl zu finden.\n",
    "\n",
    "Nachdem der Benutzer die richtige Zahl gefunden hat bekommt dieser einen Keks (Textausgabe). Sollte dies nicht gelingen, ermuntere Ihn es nochmals zu versuchen, wobei das Spiel dann von neuem beginnen soll."
   ]
  },
  {
   "cell_type": "code",
   "execution_count": 1,
   "metadata": {},
   "outputs": [],
   "source": [
    "def give_cookie():\n",
    "    print(\"Have your cookie\")"
   ]
  },
  {
   "cell_type": "code",
   "execution_count": 2,
   "metadata": {},
   "outputs": [],
   "source": [
    "def generate_number(): # write your code\n",
    "    import random\n",
    "    return random.randint(1, 25)"
   ]
  },
  {
   "cell_type": "code",
   "execution_count": 3,
   "metadata": {},
   "outputs": [],
   "source": [
    "def compare_numbers(num): #add parameters and return whether comparison returned true\n",
    "    import time\n",
    "    attempts = 0\n",
    "    for x in range(5):\n",
    "        attempts += 1\n",
    "\n",
    "        fehler = True\n",
    "        while fehler:\n",
    "            print(\"Versuch Nr. \", attempts, \"!\", sep=\"\")\n",
    "            try:\n",
    "                time.sleep(0.4) #Input/Ausgabe dauert in Dataspell zu lange, daher time.sleep(0.4). Direkt in Jupyter Notebook und als .py in PyCharm funktioniert es\n",
    "                my_guess = int(input(\"Gib deinen Tipp ein: \"))\n",
    "                if my_guess < 1 or my_guess > 25:\n",
    "                    raise\n",
    "                fehler = False\n",
    "            except:\n",
    "                print(\"Bitte eine ganze Zahl zwischen 1 und 25 eingeben!\\n\")\n",
    "\n",
    "        if my_guess < num:\n",
    "            if attempts <= 4:\n",
    "                print(\"Die gesuchte Zahl ist größer als \", str(my_guess), \"!\\n\", sep=\"\")\n",
    "        elif my_guess > num:\n",
    "            if attempts <= 4:\n",
    "                print(\"Die gesuchte Zahl ist kleiner als \", str(my_guess), \"!\\n\", sep=\"\")\n",
    "        else:\n",
    "            return True"
   ]
  },
  {
   "cell_type": "code",
   "execution_count": 10,
   "metadata": {
    "pycharm": {
     "name": "#%%\n"
    }
   },
   "outputs": [
    {
     "name": "stdout",
     "output_type": "stream",
     "text": [
      "Du hast 5 Versuche um die richtige Zahl zwischen 1 und 25 zu erraten!\n",
      "\n",
      "Versuch Nr. 1!\n",
      "Richtig getippt!\n",
      "Have your cookie\n"
     ]
    }
   ],
   "source": [
    "#write code for comparison and hold state of tries.\n",
    "spiel = True\n",
    "while spiel:\n",
    "    random_number = generate_number()\n",
    "    print(\"Du hast 5 Versuche um die richtige Zahl zwischen 1 und 25 zu erraten!\\n\")\n",
    "\n",
    "    if compare_numbers(random_number) is True:\n",
    "        print(\"Richtig getippt!\")\n",
    "        give_cookie()\n",
    "        break\n",
    "    else:\n",
    "        print(\"\\nLeider hast du die gesuchte Zahl\", random_number, \"nicht erraten!\\n\")\n",
    "\n",
    "    if input(\"Willst du noch einmal spielen Y/N?: \\n\").lower() == \"n\":\n",
    "        spiel = False"
   ]
  },
  {
   "cell_type": "markdown",
   "metadata": {},
   "source": [
    "## Schere, Stein, Papier\n",
    "\n",
    "Erstelle ein Python Programm welches das Spiel „Schere Stein Papier“ emuliert.\n",
    "\n",
    "\n",
    "Das Programm soll den Benutzer fragen welche Option Spieler 1 bzw. Spieler 2 wählt (Mögliche Optionen sind \"Schere\", \"Stein\", \"Papier\"). (Dies kann auch über direktes aufrufen von Klassen geschehen)\n",
    "\n",
    "Danach soll das Programm den Gewinner ausgeben. Sollte es keinen Gewinner geben, soll \"Unentschieden\" ausgegeben werden.\n",
    "\n",
    "Wenn der Benutzer etwas Anderes eingibt als o.a. Optionen soll das Programm einen Fehler ausgeben, der besagt, dass dies keine gültige Option ist. Er/Sie möge doch eine der drei Optionen verwenden.\n",
    "\n",
    " \n",
    "\n",
    "Tipp: Erstelle eine Klasse „Spieler“ welche ein Parameter übernimmt („Schere“....)\n",
    "\n",
    "Überprüfe in der Klasse ob der Parameter gültig ist.\n",
    "\n",
    "**Optional extra points (+3) ** <br />\n",
    "Extend *Rock, paper, scissors* with *lizard, Spock*! \n",
    "For more information visit: https://www.youtube.com/watch?v=x5Q6-wMx-K8\n",
    "![Game](game.webp)"
   ]
  },
  {
   "cell_type": "code",
   "execution_count": 11,
   "metadata": {},
   "outputs": [],
   "source": [
    "# add constructor, which receives option\n",
    "# add private setter for option\n",
    "# add public getter\n",
    "\n",
    "class Player:\n",
    "    def __init__(self, option):\n",
    "        self.__option = option\n",
    "\n",
    "    def evaluate(self):\n",
    "        while self.__option not in [\"Schere\", \"Stein\", \"Papier\"]:\n",
    "            self.__option = input('Ungültiger Wert! Bitte wähle \"Schere\", \"Stein\" oder \"Papier\"')\n",
    "        return self.__option"
   ]
  },
  {
   "cell_type": "code",
   "execution_count": 12,
   "metadata": {
    "pycharm": {
     "name": "#%%\n"
    }
   },
   "outputs": [],
   "source": [
    "class Game:\n",
    "    def __init__(self, player_one, player_two):\n",
    "        self.player_one = player_one\n",
    "        self.player_two = player_two\n",
    "\n",
    "    def play(self):\n",
    "        if player_one == \"Schere\" and player_two == \"Stein\":\n",
    "            return print(\"Spieler 2 hat gewonnen!\")\n",
    "\n",
    "        elif player_one == \"Schere\" and player_two == \"Papier\":\n",
    "            return print(\"Spieler 1 hat gewonnen!\")\n",
    "\n",
    "        elif player_one == \"Stein\" and player_two == \"Papier\":\n",
    "            return print(\"Spieler 2 hat gewonnen!\")\n",
    "\n",
    "        elif player_one == \"Stein\" and player_two == \"Schere\":\n",
    "            return print(\"Spieler 1 hat gewonnen!\")\n",
    "\n",
    "        elif player_one == \"Papier\" and player_two == \"Schere\":\n",
    "            return print(\"Spieler 2 hat gewonnen!\")\n",
    "\n",
    "        elif player_one == \"Papier\" and player_two == \"Stein\":\n",
    "            return print(\"Spieler 1 hat gewonnen!\")\n",
    "        \n",
    "        else:\n",
    "            return print(\"Unentschieden!\")\n"
   ]
  },
  {
   "cell_type": "code",
   "execution_count": 13,
   "outputs": [],
   "source": [
    "choice_player_one = input('Spieler 1: Bitte wähle \"Schere\", \"Stein\" oder \"Papier\": ')\n",
    "player_one = Player(choice_player_one).evaluate()\n",
    "\n",
    "choice_player_two = input('Spieler 2: Bitte wähle \"Schere\", \"Stein\" oder \"Papier\": ')\n",
    "player_two = Player(choice_player_two).evaluate()\n",
    "\n",
    "Game(player_one, player_two).play()"
   ],
   "metadata": {
    "collapsed": false,
    "pycharm": {
     "name": "#%%\n"
    }
   }
  }
 ],
 "metadata": {
  "anaconda-cloud": {},
  "coursera": {
   "course_slug": "python-data-analysis",
   "graded_item_id": "tHmgx",
   "launcher_item_id": "Um6Bz",
   "part_id": "OQsnr"
  },
  "kernelspec": {
   "display_name": "Python 3 (ipykernel)",
   "language": "python",
   "name": "python3"
  },
  "language_info": {
   "codemirror_mode": {
    "name": "ipython",
    "version": 3
   },
   "file_extension": ".py",
   "mimetype": "text/x-python",
   "name": "python",
   "nbconvert_exporter": "python",
   "pygments_lexer": "ipython3",
   "version": "3.9.7"
  }
 },
 "nbformat": 4,
 "nbformat_minor": 1
}