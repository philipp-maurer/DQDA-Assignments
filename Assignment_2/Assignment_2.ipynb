{
 "cells": [
  {
   "cell_type": "markdown",
   "metadata": {},
   "source": [
    "# Assignment 2 - Pandas Introduction\n",
    "All questions are weighted the same in this assignment.\n",
    "## Part 1\n",
    "The following code loads the olympics dataset (olympics.csv), which was derrived from the Wikipedia entry on [All Time Olympic Games Medals](https://en.wikipedia.org/wiki/All-time_Olympic_Games_medal_table), and does some basic data cleaning. \n",
    "\n",
    "The columns are organized as # of Summer games, Summer medals, # of Winter games, Winter medals, total # number of games, total # of medals. Use this dataset to answer the questions below."
   ]
  },
  {
   "cell_type": "code",
   "execution_count": 1,
   "metadata": {
    "collapsed": true,
    "nbgrader": {
     "grade": false,
     "grade_id": "1",
     "locked": false,
     "solution": false
    }
   },
   "outputs": [
    {
     "data": {
      "text/plain": "             # Summer  Gold  Silver  Bronze  Total  # Winter  Gold.1  \\\nAfghanistan        13     0       0       2      2         0       0   \nAlgeria            12     5       2       8     15         3       0   \nArgentina          23    18      24      28     70        18       0   \nArmenia             5     1       2       9     12         6       0   \nAustralasia         2     3       4       5     12         0       0   \n\n             Silver.1  Bronze.1  Total.1  # Games  Gold.2  Silver.2  Bronze.2  \\\nAfghanistan         0         0        0       13       0         0         2   \nAlgeria             0         0        0       15       5         2         8   \nArgentina           0         0        0       41      18        24        28   \nArmenia             0         0        0       11       1         2         9   \nAustralasia         0         0        0        2       3         4         5   \n\n             Combined total   ID  \nAfghanistan               2  AFG  \nAlgeria                  15  ALG  \nArgentina                70  ARG  \nArmenia                  12  ARM  \nAustralasia              12  ANZ  ",
      "text/html": "<div>\n<style scoped>\n    .dataframe tbody tr th:only-of-type {\n        vertical-align: middle;\n    }\n\n    .dataframe tbody tr th {\n        vertical-align: top;\n    }\n\n    .dataframe thead th {\n        text-align: right;\n    }\n</style>\n<table border=\"1\" class=\"dataframe\">\n  <thead>\n    <tr style=\"text-align: right;\">\n      <th></th>\n      <th># Summer</th>\n      <th>Gold</th>\n      <th>Silver</th>\n      <th>Bronze</th>\n      <th>Total</th>\n      <th># Winter</th>\n      <th>Gold.1</th>\n      <th>Silver.1</th>\n      <th>Bronze.1</th>\n      <th>Total.1</th>\n      <th># Games</th>\n      <th>Gold.2</th>\n      <th>Silver.2</th>\n      <th>Bronze.2</th>\n      <th>Combined total</th>\n      <th>ID</th>\n    </tr>\n  </thead>\n  <tbody>\n    <tr>\n      <th>Afghanistan</th>\n      <td>13</td>\n      <td>0</td>\n      <td>0</td>\n      <td>2</td>\n      <td>2</td>\n      <td>0</td>\n      <td>0</td>\n      <td>0</td>\n      <td>0</td>\n      <td>0</td>\n      <td>13</td>\n      <td>0</td>\n      <td>0</td>\n      <td>2</td>\n      <td>2</td>\n      <td>AFG</td>\n    </tr>\n    <tr>\n      <th>Algeria</th>\n      <td>12</td>\n      <td>5</td>\n      <td>2</td>\n      <td>8</td>\n      <td>15</td>\n      <td>3</td>\n      <td>0</td>\n      <td>0</td>\n      <td>0</td>\n      <td>0</td>\n      <td>15</td>\n      <td>5</td>\n      <td>2</td>\n      <td>8</td>\n      <td>15</td>\n      <td>ALG</td>\n    </tr>\n    <tr>\n      <th>Argentina</th>\n      <td>23</td>\n      <td>18</td>\n      <td>24</td>\n      <td>28</td>\n      <td>70</td>\n      <td>18</td>\n      <td>0</td>\n      <td>0</td>\n      <td>0</td>\n      <td>0</td>\n      <td>41</td>\n      <td>18</td>\n      <td>24</td>\n      <td>28</td>\n      <td>70</td>\n      <td>ARG</td>\n    </tr>\n    <tr>\n      <th>Armenia</th>\n      <td>5</td>\n      <td>1</td>\n      <td>2</td>\n      <td>9</td>\n      <td>12</td>\n      <td>6</td>\n      <td>0</td>\n      <td>0</td>\n      <td>0</td>\n      <td>0</td>\n      <td>11</td>\n      <td>1</td>\n      <td>2</td>\n      <td>9</td>\n      <td>12</td>\n      <td>ARM</td>\n    </tr>\n    <tr>\n      <th>Australasia</th>\n      <td>2</td>\n      <td>3</td>\n      <td>4</td>\n      <td>5</td>\n      <td>12</td>\n      <td>0</td>\n      <td>0</td>\n      <td>0</td>\n      <td>0</td>\n      <td>0</td>\n      <td>2</td>\n      <td>3</td>\n      <td>4</td>\n      <td>5</td>\n      <td>12</td>\n      <td>ANZ</td>\n    </tr>\n  </tbody>\n</table>\n</div>"
     },
     "execution_count": 1,
     "metadata": {},
     "output_type": "execute_result"
    }
   ],
   "source": [
    "import pandas as pd\n",
    "\n",
    "df = pd.read_csv('olympics.csv', index_col=0, skiprows=1)\n",
    "\n",
    "for col in df.columns:\n",
    "    if col[:2]=='01':\n",
    "        df.rename(columns={col:'Gold'+col[4:]}, inplace=True)\n",
    "    if col[:2]=='02':\n",
    "        df.rename(columns={col:'Silver'+col[4:]}, inplace=True)\n",
    "    if col[:2]=='03':\n",
    "        df.rename(columns={col:'Bronze'+col[4:]}, inplace=True)\n",
    "    if col[:1]=='№':\n",
    "        df.rename(columns={col:'#'+col[1:]}, inplace=True)\n",
    "\n",
    "names_ids = df.index.str.split('\\s\\(') # split the index by '('\n",
    "\n",
    "df.index = names_ids.str[0] # the [0] element is the country name (new index) \n",
    "df['ID'] = names_ids.str[1].str[:3] # the [1] element is the abbreviation or ID (take first 3 characters from that)\n",
    "\n",
    "df = df.drop('Totals')\n",
    "df.head()"
   ]
  },
  {
   "cell_type": "markdown",
   "metadata": {},
   "source": [
    "### Question 0 (Example)\n",
    "\n",
    "What is the first country in df?\n",
    "\n",
    "*This function should return a Series.*"
   ]
  },
  {
   "cell_type": "code",
   "execution_count": 2,
   "metadata": {
    "collapsed": true
   },
   "outputs": [
    {
     "data": {
      "text/plain": "# Summer           13\nGold                0\nSilver              0\nBronze              2\nTotal               2\n# Winter            0\nGold.1              0\nSilver.1            0\nBronze.1            0\nTotal.1             0\n# Games            13\nGold.2              0\nSilver.2            0\nBronze.2            2\nCombined total      2\nID                AFG\nName: Afghanistan, dtype: object"
     },
     "execution_count": 2,
     "metadata": {},
     "output_type": "execute_result"
    }
   ],
   "source": [
    "# You should write your whole answer within the function provided. The autograder will call\n",
    "# this function and compare the return value against the correct solution value\n",
    "def answer_zero():\n",
    "    # This function returns the row for Afghanistan, which is a Series object. The assignment\n",
    "    # question description will tell you the general format the autograder is expecting\n",
    "    return df.iloc[0]\n",
    "\n",
    "# You can examine what your function returns by calling it in the cell. If you have questions\n",
    "# about the assignment formats, check out the discussion forums for any FAQs\n",
    "answer_zero() "
   ]
  },
  {
   "cell_type": "markdown",
   "metadata": {},
   "source": [
    "### Question 1\n",
    "Which country has won the most gold medals in summer games?\n",
    "\n",
    "*This function should return a single string value.*"
   ]
  },
  {
   "cell_type": "code",
   "execution_count": 3,
   "outputs": [],
   "source": [
    "df_q1 = df[df[\"Gold\"] == df[\"Gold\"].max()]"
   ],
   "metadata": {
    "collapsed": false,
    "pycharm": {
     "name": "#%%\n"
    }
   }
  },
  {
   "cell_type": "code",
   "execution_count": 4,
   "outputs": [
    {
     "data": {
      "text/plain": "'United States'"
     },
     "execution_count": 4,
     "metadata": {},
     "output_type": "execute_result"
    }
   ],
   "source": [
    "def answer_one():\n",
    "    return df_q1.index.values[0]\n",
    "\n",
    "answer_one()"
   ],
   "metadata": {
    "collapsed": false,
    "pycharm": {
     "name": "#%%\n"
    }
   }
  },
  {
   "cell_type": "markdown",
   "metadata": {},
   "source": [
    "### Question 2\n",
    "Which country had the biggest difference between their summer and winter gold medal counts?\n",
    "\n",
    "*This function should return a single string value.*"
   ]
  },
  {
   "cell_type": "code",
   "execution_count": 5,
   "outputs": [],
   "source": [
    "df_q2 = df.copy()\n",
    "df_q2[\"Gold_diff\"] = (df[\"Gold\"] - df[\"Gold.1\"])"
   ],
   "metadata": {
    "collapsed": false,
    "pycharm": {
     "name": "#%%\n"
    }
   }
  },
  {
   "cell_type": "code",
   "execution_count": 6,
   "outputs": [
    {
     "data": {
      "text/plain": "'United States'"
     },
     "execution_count": 6,
     "metadata": {},
     "output_type": "execute_result"
    }
   ],
   "source": [
    "def answer_two():\n",
    "    return df_q2[\"Gold_diff\"].idxmax()\n",
    "\n",
    "answer_two()"
   ],
   "metadata": {
    "collapsed": false,
    "pycharm": {
     "name": "#%%\n"
    }
   }
  },
  {
   "cell_type": "markdown",
   "metadata": {},
   "source": [
    "### Question 3\n",
    "Which country has the biggest difference between their summer gold medal counts and winter gold medal counts relative to their total gold medal count? \n",
    "\n",
    "$$\\frac{Summer~Gold - Winter~Gold}{Total~Gold}$$\n",
    "\n",
    "Only include countries that have won at least 1 gold in both summer and winter.\n",
    "\n",
    "*This function should return a single string value.*"
   ]
  },
  {
   "cell_type": "code",
   "execution_count": 7,
   "outputs": [],
   "source": [
    "df_q3 = df[(df[\"Gold\"] > 0) & (df[\"Gold.1\"] > 0)]\n",
    "df_q3 = (df_q3[\"Gold\"] - df_q3[\"Gold.1\"]) / df_q3[\"Gold.2\"]"
   ],
   "metadata": {
    "collapsed": false,
    "pycharm": {
     "name": "#%%\n"
    }
   }
  },
  {
   "cell_type": "code",
   "execution_count": 8,
   "metadata": {
    "collapsed": true
   },
   "outputs": [
    {
     "data": {
      "text/plain": "'Bulgaria'"
     },
     "execution_count": 8,
     "metadata": {},
     "output_type": "execute_result"
    }
   ],
   "source": [
    "def answer_three():\n",
    "    return df_q3.idxmax()\n",
    "\n",
    "answer_three()"
   ]
  },
  {
   "cell_type": "markdown",
   "metadata": {},
   "source": [
    "### Question 4\n",
    "Write a function that creates a Series called \"Points\" which is a weighted value where each gold medal (`Gold.2`) counts for 3 points, silver medals (`Silver.2`) for 2 points, and bronze medals (`Bronze.2`) for 1 point. The function should return only the column (a Series object) which you created.\n",
    "\n",
    "*This function should return a Series named `Points` of length 146*"
   ]
  },
  {
   "cell_type": "code",
   "execution_count": 9,
   "outputs": [],
   "source": [
    "df_q4 = df.copy()\n",
    "df_q4[\"Points\"] = df_q4[\"Gold.2\"] * 3 + df_q4[\"Silver.2\"] * 2 + df_q4[\"Bronze.2\"] * 1"
   ],
   "metadata": {
    "collapsed": false,
    "pycharm": {
     "name": "#%%\n"
    }
   }
  },
  {
   "cell_type": "code",
   "execution_count": 10,
   "metadata": {
    "collapsed": true
   },
   "outputs": [
    {
     "data": {
      "text/plain": "Afghanistan                           2\nAlgeria                              27\nArgentina                           130\nArmenia                              16\nAustralasia                          22\n                                   ... \nYugoslavia                          171\nIndependent Olympic Participants      4\nZambia                                3\nZimbabwe                             18\nMixed team                           38\nName: Points, Length: 146, dtype: int64"
     },
     "execution_count": 10,
     "metadata": {},
     "output_type": "execute_result"
    }
   ],
   "source": [
    "def answer_four():\n",
    "    return df_q4.Points\n",
    "\n",
    "answer_four()"
   ]
  },
  {
   "cell_type": "markdown",
   "metadata": {},
   "source": [
    "## Part 2\n",
    "For the next set of questions, we will be using census data from the [United States Census Bureau](http://www.census.gov/popest/data/counties/totals/2015/CO-EST2015-alldata.html). Counties are political and geographic subdivisions of states in the United States. This dataset contains population data for counties and states in the US from 2010 to 2015. [See this document](http://www.census.gov/popest/data/counties/totals/2015/files/CO-EST2015-alldata.pdf) for a description of the variable names.\n",
    "\n",
    "The census dataset (census.csv) should be loaded as census_df. Answer questions using this as appropriate."
   ]
  },
  {
   "cell_type": "code",
   "execution_count": 11,
   "metadata": {
    "collapsed": true
   },
   "outputs": [],
   "source": [
    "census_df = pd.read_csv('census.csv')"
   ]
  },
  {
   "cell_type": "code",
   "execution_count": 12,
   "outputs": [
    {
     "data": {
      "text/plain": "False"
     },
     "execution_count": 12,
     "metadata": {},
     "output_type": "execute_result"
    }
   ],
   "source": [
    "census_df.isna().values.any() # keine NaN Werte in census_df"
   ],
   "metadata": {
    "collapsed": false,
    "pycharm": {
     "name": "#%%\n"
    }
   }
  },
  {
   "cell_type": "code",
   "execution_count": 13,
   "outputs": [
    {
     "data": {
      "text/plain": "   SUMLEV  REGION  DIVISION  STATE  COUNTY   STNAME         CTYNAME  \\\n0      40       3         6      1       0  Alabama         Alabama   \n1      50       3         6      1       1  Alabama  Autauga County   \n2      50       3         6      1       3  Alabama  Baldwin County   \n3      50       3         6      1       5  Alabama  Barbour County   \n4      50       3         6      1       7  Alabama     Bibb County   \n\n   CENSUS2010POP  ESTIMATESBASE2010  POPESTIMATE2010  ...  RDOMESTICMIG2011  \\\n0        4779736            4780127          4785161  ...          0.002295   \n1          54571              54571            54660  ...          7.242091   \n2         182265             182265           183193  ...         14.832960   \n3          27457              27457            27341  ...         -4.728132   \n4          22915              22919            22861  ...         -5.527043   \n\n   RDOMESTICMIG2012  RDOMESTICMIG2013  RDOMESTICMIG2014  RDOMESTICMIG2015  \\\n0         -0.193196          0.381066          0.582002         -0.467369   \n1         -2.915927         -3.012349          2.265971         -2.530799   \n2         17.647293         21.845705         19.243287         17.197872   \n3         -2.500690         -7.056824         -3.904217        -10.543299   \n4         -5.068871         -6.201001         -0.177537          0.177258   \n\n   RNETMIG2011  RNETMIG2012  RNETMIG2013  RNETMIG2014  RNETMIG2015  \n0     1.030015     0.826644     1.383282     1.724718     0.712594  \n1     7.606016    -2.626146    -2.722002     2.592270    -2.187333  \n2    15.844176    18.559627    22.727626    20.317142    18.293499  \n3    -4.874741    -2.758113    -7.167664    -3.978583   -10.543299  \n4    -5.088389    -4.363636    -5.403729     0.754533     1.107861  \n\n[5 rows x 100 columns]",
      "text/html": "<div>\n<style scoped>\n    .dataframe tbody tr th:only-of-type {\n        vertical-align: middle;\n    }\n\n    .dataframe tbody tr th {\n        vertical-align: top;\n    }\n\n    .dataframe thead th {\n        text-align: right;\n    }\n</style>\n<table border=\"1\" class=\"dataframe\">\n  <thead>\n    <tr style=\"text-align: right;\">\n      <th></th>\n      <th>SUMLEV</th>\n      <th>REGION</th>\n      <th>DIVISION</th>\n      <th>STATE</th>\n      <th>COUNTY</th>\n      <th>STNAME</th>\n      <th>CTYNAME</th>\n      <th>CENSUS2010POP</th>\n      <th>ESTIMATESBASE2010</th>\n      <th>POPESTIMATE2010</th>\n      <th>...</th>\n      <th>RDOMESTICMIG2011</th>\n      <th>RDOMESTICMIG2012</th>\n      <th>RDOMESTICMIG2013</th>\n      <th>RDOMESTICMIG2014</th>\n      <th>RDOMESTICMIG2015</th>\n      <th>RNETMIG2011</th>\n      <th>RNETMIG2012</th>\n      <th>RNETMIG2013</th>\n      <th>RNETMIG2014</th>\n      <th>RNETMIG2015</th>\n    </tr>\n  </thead>\n  <tbody>\n    <tr>\n      <th>0</th>\n      <td>40</td>\n      <td>3</td>\n      <td>6</td>\n      <td>1</td>\n      <td>0</td>\n      <td>Alabama</td>\n      <td>Alabama</td>\n      <td>4779736</td>\n      <td>4780127</td>\n      <td>4785161</td>\n      <td>...</td>\n      <td>0.002295</td>\n      <td>-0.193196</td>\n      <td>0.381066</td>\n      <td>0.582002</td>\n      <td>-0.467369</td>\n      <td>1.030015</td>\n      <td>0.826644</td>\n      <td>1.383282</td>\n      <td>1.724718</td>\n      <td>0.712594</td>\n    </tr>\n    <tr>\n      <th>1</th>\n      <td>50</td>\n      <td>3</td>\n      <td>6</td>\n      <td>1</td>\n      <td>1</td>\n      <td>Alabama</td>\n      <td>Autauga County</td>\n      <td>54571</td>\n      <td>54571</td>\n      <td>54660</td>\n      <td>...</td>\n      <td>7.242091</td>\n      <td>-2.915927</td>\n      <td>-3.012349</td>\n      <td>2.265971</td>\n      <td>-2.530799</td>\n      <td>7.606016</td>\n      <td>-2.626146</td>\n      <td>-2.722002</td>\n      <td>2.592270</td>\n      <td>-2.187333</td>\n    </tr>\n    <tr>\n      <th>2</th>\n      <td>50</td>\n      <td>3</td>\n      <td>6</td>\n      <td>1</td>\n      <td>3</td>\n      <td>Alabama</td>\n      <td>Baldwin County</td>\n      <td>182265</td>\n      <td>182265</td>\n      <td>183193</td>\n      <td>...</td>\n      <td>14.832960</td>\n      <td>17.647293</td>\n      <td>21.845705</td>\n      <td>19.243287</td>\n      <td>17.197872</td>\n      <td>15.844176</td>\n      <td>18.559627</td>\n      <td>22.727626</td>\n      <td>20.317142</td>\n      <td>18.293499</td>\n    </tr>\n    <tr>\n      <th>3</th>\n      <td>50</td>\n      <td>3</td>\n      <td>6</td>\n      <td>1</td>\n      <td>5</td>\n      <td>Alabama</td>\n      <td>Barbour County</td>\n      <td>27457</td>\n      <td>27457</td>\n      <td>27341</td>\n      <td>...</td>\n      <td>-4.728132</td>\n      <td>-2.500690</td>\n      <td>-7.056824</td>\n      <td>-3.904217</td>\n      <td>-10.543299</td>\n      <td>-4.874741</td>\n      <td>-2.758113</td>\n      <td>-7.167664</td>\n      <td>-3.978583</td>\n      <td>-10.543299</td>\n    </tr>\n    <tr>\n      <th>4</th>\n      <td>50</td>\n      <td>3</td>\n      <td>6</td>\n      <td>1</td>\n      <td>7</td>\n      <td>Alabama</td>\n      <td>Bibb County</td>\n      <td>22915</td>\n      <td>22919</td>\n      <td>22861</td>\n      <td>...</td>\n      <td>-5.527043</td>\n      <td>-5.068871</td>\n      <td>-6.201001</td>\n      <td>-0.177537</td>\n      <td>0.177258</td>\n      <td>-5.088389</td>\n      <td>-4.363636</td>\n      <td>-5.403729</td>\n      <td>0.754533</td>\n      <td>1.107861</td>\n    </tr>\n  </tbody>\n</table>\n<p>5 rows × 100 columns</p>\n</div>"
     },
     "execution_count": 13,
     "metadata": {},
     "output_type": "execute_result"
    }
   ],
   "source": [
    "census_df.head()"
   ],
   "metadata": {
    "collapsed": false,
    "pycharm": {
     "name": "#%%\n"
    }
   }
  },
  {
   "cell_type": "code",
   "execution_count": 14,
   "outputs": [
    {
     "data": {
      "text/plain": "     SUMLEV  REGION  DIVISION  STATE  COUNTY      STNAME     CTYNAME  \\\n0        40       3         6      1       0     Alabama     Alabama   \n68       40       4         9      2       0      Alaska      Alaska   \n98       40       4         8      4       0     Arizona     Arizona   \n114      40       3         7      5       0    Arkansas    Arkansas   \n190      40       4         9      6       0  California  California   \n\n     CENSUS2010POP  ESTIMATESBASE2010  POPESTIMATE2010  ...  RDOMESTICMIG2011  \\\n0          4779736            4780127          4785161  ...          0.002295   \n68          710231             710249           714021  ...         -1.173489   \n98         6392017            6392307          6408208  ...          1.327489   \n114        2915918            2915958          2922394  ...          1.365312   \n190       37253956           37254503         37334079  ...         -1.148464   \n\n     RDOMESTICMIG2012  RDOMESTICMIG2013  RDOMESTICMIG2014  RDOMESTICMIG2015  \\\n0           -0.193196          0.381066          0.582002         -0.467369   \n68          -1.946424         -3.915107        -14.438910        -10.407475   \n98           5.245740          3.905473          6.219955          6.776501   \n114         -0.432402         -0.442153         -1.060966         -0.407735   \n190         -1.163788         -1.339869         -0.862856         -1.981572   \n\n     RNETMIG2011  RNETMIG2012  RNETMIG2013  RNETMIG2014  RNETMIG2015  \n0       1.030015     0.826644     1.383282     1.724718     0.712594  \n68      0.931274     1.818497    -0.757148   -11.271709    -6.881838  \n98      3.290378     7.337279     6.123606     8.761352     9.335208  \n114     2.326251     0.646395     0.682189     0.226168     0.901928  \n190     2.761704     2.647127     2.728645     3.743342     2.656065  \n\n[5 rows x 100 columns]",
      "text/html": "<div>\n<style scoped>\n    .dataframe tbody tr th:only-of-type {\n        vertical-align: middle;\n    }\n\n    .dataframe tbody tr th {\n        vertical-align: top;\n    }\n\n    .dataframe thead th {\n        text-align: right;\n    }\n</style>\n<table border=\"1\" class=\"dataframe\">\n  <thead>\n    <tr style=\"text-align: right;\">\n      <th></th>\n      <th>SUMLEV</th>\n      <th>REGION</th>\n      <th>DIVISION</th>\n      <th>STATE</th>\n      <th>COUNTY</th>\n      <th>STNAME</th>\n      <th>CTYNAME</th>\n      <th>CENSUS2010POP</th>\n      <th>ESTIMATESBASE2010</th>\n      <th>POPESTIMATE2010</th>\n      <th>...</th>\n      <th>RDOMESTICMIG2011</th>\n      <th>RDOMESTICMIG2012</th>\n      <th>RDOMESTICMIG2013</th>\n      <th>RDOMESTICMIG2014</th>\n      <th>RDOMESTICMIG2015</th>\n      <th>RNETMIG2011</th>\n      <th>RNETMIG2012</th>\n      <th>RNETMIG2013</th>\n      <th>RNETMIG2014</th>\n      <th>RNETMIG2015</th>\n    </tr>\n  </thead>\n  <tbody>\n    <tr>\n      <th>0</th>\n      <td>40</td>\n      <td>3</td>\n      <td>6</td>\n      <td>1</td>\n      <td>0</td>\n      <td>Alabama</td>\n      <td>Alabama</td>\n      <td>4779736</td>\n      <td>4780127</td>\n      <td>4785161</td>\n      <td>...</td>\n      <td>0.002295</td>\n      <td>-0.193196</td>\n      <td>0.381066</td>\n      <td>0.582002</td>\n      <td>-0.467369</td>\n      <td>1.030015</td>\n      <td>0.826644</td>\n      <td>1.383282</td>\n      <td>1.724718</td>\n      <td>0.712594</td>\n    </tr>\n    <tr>\n      <th>68</th>\n      <td>40</td>\n      <td>4</td>\n      <td>9</td>\n      <td>2</td>\n      <td>0</td>\n      <td>Alaska</td>\n      <td>Alaska</td>\n      <td>710231</td>\n      <td>710249</td>\n      <td>714021</td>\n      <td>...</td>\n      <td>-1.173489</td>\n      <td>-1.946424</td>\n      <td>-3.915107</td>\n      <td>-14.438910</td>\n      <td>-10.407475</td>\n      <td>0.931274</td>\n      <td>1.818497</td>\n      <td>-0.757148</td>\n      <td>-11.271709</td>\n      <td>-6.881838</td>\n    </tr>\n    <tr>\n      <th>98</th>\n      <td>40</td>\n      <td>4</td>\n      <td>8</td>\n      <td>4</td>\n      <td>0</td>\n      <td>Arizona</td>\n      <td>Arizona</td>\n      <td>6392017</td>\n      <td>6392307</td>\n      <td>6408208</td>\n      <td>...</td>\n      <td>1.327489</td>\n      <td>5.245740</td>\n      <td>3.905473</td>\n      <td>6.219955</td>\n      <td>6.776501</td>\n      <td>3.290378</td>\n      <td>7.337279</td>\n      <td>6.123606</td>\n      <td>8.761352</td>\n      <td>9.335208</td>\n    </tr>\n    <tr>\n      <th>114</th>\n      <td>40</td>\n      <td>3</td>\n      <td>7</td>\n      <td>5</td>\n      <td>0</td>\n      <td>Arkansas</td>\n      <td>Arkansas</td>\n      <td>2915918</td>\n      <td>2915958</td>\n      <td>2922394</td>\n      <td>...</td>\n      <td>1.365312</td>\n      <td>-0.432402</td>\n      <td>-0.442153</td>\n      <td>-1.060966</td>\n      <td>-0.407735</td>\n      <td>2.326251</td>\n      <td>0.646395</td>\n      <td>0.682189</td>\n      <td>0.226168</td>\n      <td>0.901928</td>\n    </tr>\n    <tr>\n      <th>190</th>\n      <td>40</td>\n      <td>4</td>\n      <td>9</td>\n      <td>6</td>\n      <td>0</td>\n      <td>California</td>\n      <td>California</td>\n      <td>37253956</td>\n      <td>37254503</td>\n      <td>37334079</td>\n      <td>...</td>\n      <td>-1.148464</td>\n      <td>-1.163788</td>\n      <td>-1.339869</td>\n      <td>-0.862856</td>\n      <td>-1.981572</td>\n      <td>2.761704</td>\n      <td>2.647127</td>\n      <td>2.728645</td>\n      <td>3.743342</td>\n      <td>2.656065</td>\n    </tr>\n  </tbody>\n</table>\n<p>5 rows × 100 columns</p>\n</div>"
     },
     "execution_count": 14,
     "metadata": {},
     "output_type": "execute_result"
    }
   ],
   "source": [
    "census_df_states = census_df[(census_df[\"SUMLEV\"] == 40)]\n",
    "census_df_states.head()"
   ],
   "metadata": {
    "collapsed": false,
    "pycharm": {
     "name": "#%%\n"
    }
   }
  },
  {
   "cell_type": "code",
   "execution_count": 15,
   "outputs": [
    {
     "data": {
      "text/plain": "   SUMLEV  REGION  DIVISION  STATE  COUNTY   STNAME         CTYNAME  \\\n1      50       3         6      1       1  Alabama  Autauga County   \n2      50       3         6      1       3  Alabama  Baldwin County   \n3      50       3         6      1       5  Alabama  Barbour County   \n4      50       3         6      1       7  Alabama     Bibb County   \n5      50       3         6      1       9  Alabama   Blount County   \n\n   CENSUS2010POP  ESTIMATESBASE2010  POPESTIMATE2010  ...  RDOMESTICMIG2011  \\\n1          54571              54571            54660  ...          7.242091   \n2         182265             182265           183193  ...         14.832960   \n3          27457              27457            27341  ...         -4.728132   \n4          22915              22919            22861  ...         -5.527043   \n5          57322              57322            57373  ...          1.807375   \n\n   RDOMESTICMIG2012  RDOMESTICMIG2013  RDOMESTICMIG2014  RDOMESTICMIG2015  \\\n1         -2.915927         -3.012349          2.265971         -2.530799   \n2         17.647293         21.845705         19.243287         17.197872   \n3         -2.500690         -7.056824         -3.904217        -10.543299   \n4         -5.068871         -6.201001         -0.177537          0.177258   \n5         -1.177622         -1.748766         -2.062535         -1.369970   \n\n   RNETMIG2011  RNETMIG2012  RNETMIG2013  RNETMIG2014  RNETMIG2015  \n1     7.606016    -2.626146    -2.722002     2.592270    -2.187333  \n2    15.844176    18.559627    22.727626    20.317142    18.293499  \n3    -4.874741    -2.758113    -7.167664    -3.978583   -10.543299  \n4    -5.088389    -4.363636    -5.403729     0.754533     1.107861  \n5     1.859511    -0.848580    -1.402476    -1.577232    -0.884411  \n\n[5 rows x 100 columns]",
      "text/html": "<div>\n<style scoped>\n    .dataframe tbody tr th:only-of-type {\n        vertical-align: middle;\n    }\n\n    .dataframe tbody tr th {\n        vertical-align: top;\n    }\n\n    .dataframe thead th {\n        text-align: right;\n    }\n</style>\n<table border=\"1\" class=\"dataframe\">\n  <thead>\n    <tr style=\"text-align: right;\">\n      <th></th>\n      <th>SUMLEV</th>\n      <th>REGION</th>\n      <th>DIVISION</th>\n      <th>STATE</th>\n      <th>COUNTY</th>\n      <th>STNAME</th>\n      <th>CTYNAME</th>\n      <th>CENSUS2010POP</th>\n      <th>ESTIMATESBASE2010</th>\n      <th>POPESTIMATE2010</th>\n      <th>...</th>\n      <th>RDOMESTICMIG2011</th>\n      <th>RDOMESTICMIG2012</th>\n      <th>RDOMESTICMIG2013</th>\n      <th>RDOMESTICMIG2014</th>\n      <th>RDOMESTICMIG2015</th>\n      <th>RNETMIG2011</th>\n      <th>RNETMIG2012</th>\n      <th>RNETMIG2013</th>\n      <th>RNETMIG2014</th>\n      <th>RNETMIG2015</th>\n    </tr>\n  </thead>\n  <tbody>\n    <tr>\n      <th>1</th>\n      <td>50</td>\n      <td>3</td>\n      <td>6</td>\n      <td>1</td>\n      <td>1</td>\n      <td>Alabama</td>\n      <td>Autauga County</td>\n      <td>54571</td>\n      <td>54571</td>\n      <td>54660</td>\n      <td>...</td>\n      <td>7.242091</td>\n      <td>-2.915927</td>\n      <td>-3.012349</td>\n      <td>2.265971</td>\n      <td>-2.530799</td>\n      <td>7.606016</td>\n      <td>-2.626146</td>\n      <td>-2.722002</td>\n      <td>2.592270</td>\n      <td>-2.187333</td>\n    </tr>\n    <tr>\n      <th>2</th>\n      <td>50</td>\n      <td>3</td>\n      <td>6</td>\n      <td>1</td>\n      <td>3</td>\n      <td>Alabama</td>\n      <td>Baldwin County</td>\n      <td>182265</td>\n      <td>182265</td>\n      <td>183193</td>\n      <td>...</td>\n      <td>14.832960</td>\n      <td>17.647293</td>\n      <td>21.845705</td>\n      <td>19.243287</td>\n      <td>17.197872</td>\n      <td>15.844176</td>\n      <td>18.559627</td>\n      <td>22.727626</td>\n      <td>20.317142</td>\n      <td>18.293499</td>\n    </tr>\n    <tr>\n      <th>3</th>\n      <td>50</td>\n      <td>3</td>\n      <td>6</td>\n      <td>1</td>\n      <td>5</td>\n      <td>Alabama</td>\n      <td>Barbour County</td>\n      <td>27457</td>\n      <td>27457</td>\n      <td>27341</td>\n      <td>...</td>\n      <td>-4.728132</td>\n      <td>-2.500690</td>\n      <td>-7.056824</td>\n      <td>-3.904217</td>\n      <td>-10.543299</td>\n      <td>-4.874741</td>\n      <td>-2.758113</td>\n      <td>-7.167664</td>\n      <td>-3.978583</td>\n      <td>-10.543299</td>\n    </tr>\n    <tr>\n      <th>4</th>\n      <td>50</td>\n      <td>3</td>\n      <td>6</td>\n      <td>1</td>\n      <td>7</td>\n      <td>Alabama</td>\n      <td>Bibb County</td>\n      <td>22915</td>\n      <td>22919</td>\n      <td>22861</td>\n      <td>...</td>\n      <td>-5.527043</td>\n      <td>-5.068871</td>\n      <td>-6.201001</td>\n      <td>-0.177537</td>\n      <td>0.177258</td>\n      <td>-5.088389</td>\n      <td>-4.363636</td>\n      <td>-5.403729</td>\n      <td>0.754533</td>\n      <td>1.107861</td>\n    </tr>\n    <tr>\n      <th>5</th>\n      <td>50</td>\n      <td>3</td>\n      <td>6</td>\n      <td>1</td>\n      <td>9</td>\n      <td>Alabama</td>\n      <td>Blount County</td>\n      <td>57322</td>\n      <td>57322</td>\n      <td>57373</td>\n      <td>...</td>\n      <td>1.807375</td>\n      <td>-1.177622</td>\n      <td>-1.748766</td>\n      <td>-2.062535</td>\n      <td>-1.369970</td>\n      <td>1.859511</td>\n      <td>-0.848580</td>\n      <td>-1.402476</td>\n      <td>-1.577232</td>\n      <td>-0.884411</td>\n    </tr>\n  </tbody>\n</table>\n<p>5 rows × 100 columns</p>\n</div>"
     },
     "execution_count": 15,
     "metadata": {},
     "output_type": "execute_result"
    }
   ],
   "source": [
    "census_df_counties = census_df[(census_df[\"SUMLEV\"] == 50)]\n",
    "census_df_counties.head()"
   ],
   "metadata": {
    "collapsed": false,
    "pycharm": {
     "name": "#%%\n"
    }
   }
  },
  {
   "cell_type": "markdown",
   "source": [
    "### Question 5\n",
    "Which state has the most counties in it? (hint: consider the sumlevel key carefully! You'll need this for future questions too...)\n",
    "\n",
    "*This function should return a single string value.*"
   ],
   "metadata": {
    "collapsed": false,
    "pycharm": {
     "name": "#%% md\n"
    }
   }
  },
  {
   "cell_type": "code",
   "execution_count": 16,
   "outputs": [],
   "source": [
    "census_df_counties_grouped_stname = census_df_counties.groupby(\"STNAME\").count()"
   ],
   "metadata": {
    "collapsed": false,
    "pycharm": {
     "name": "#%%\n"
    }
   }
  },
  {
   "cell_type": "code",
   "execution_count": 17,
   "metadata": {
    "collapsed": true
   },
   "outputs": [
    {
     "data": {
      "text/plain": "'Texas'"
     },
     "execution_count": 17,
     "metadata": {},
     "output_type": "execute_result"
    }
   ],
   "source": [
    "def answer_five():\n",
    "    return census_df_counties_grouped_stname[\"COUNTY\"].idxmax()\n",
    "\n",
    "answer_five()"
   ]
  },
  {
   "cell_type": "markdown",
   "metadata": {},
   "source": [
    "### Question 6\n",
    "Only looking at the three most populous counties for each state, what are the three most populous states (in order of highest population to lowest population)? Use `CENSUS2010POP`.\n",
    "\n",
    "*This function should return a list of string values.*"
   ]
  },
  {
   "cell_type": "code",
   "execution_count": 18,
   "outputs": [],
   "source": [
    "census_df_states_sorted_pop2010 = census_df_counties[[\"STNAME\", \"CENSUS2010POP\"]].sort_values([\"STNAME\", \"CENSUS2010POP\"], ascending = [True , False])\n",
    "census_df_states_sorted_pop2010_top3 = census_df_states_sorted_pop2010.groupby(\"STNAME\").head(3)\n",
    "census_df_states_sorted_pop2010_top3_sum = census_df_states_sorted_pop2010_top3.groupby(\"STNAME\").sum()"
   ],
   "metadata": {
    "collapsed": false,
    "pycharm": {
     "name": "#%%\n"
    }
   }
  },
  {
   "cell_type": "code",
   "execution_count": 19,
   "metadata": {
    "collapsed": true
   },
   "outputs": [
    {
     "data": {
      "text/plain": "['California', 'Texas', 'Illinois']"
     },
     "execution_count": 19,
     "metadata": {},
     "output_type": "execute_result"
    }
   ],
   "source": [
    "def answer_six():\n",
    "    return list(census_df_states_sorted_pop2010_top3_sum.nlargest(3, \"CENSUS2010POP\").index.values)\n",
    "\n",
    "answer_six()"
   ]
  },
  {
   "cell_type": "markdown",
   "metadata": {},
   "source": [
    "### Question 7\n",
    "Which county has had the largest absolute change in population within the period 2010-2015? (Hint: population values are stored in columns POPESTIMATE2010 through POPESTIMATE2015, you need to consider all six columns.)\n",
    "\n",
    "e.g. If County Population in the 5 year period is 100, 120, 80, 105, 100, 130, then its largest change in the period would be |130-80| = 50.\n",
    "\n",
    "*This function should return a single string value.*"
   ]
  },
  {
   "cell_type": "code",
   "execution_count": 20,
   "outputs": [],
   "source": [
    "import numpy as np"
   ],
   "metadata": {
    "collapsed": false,
    "pycharm": {
     "name": "#%%\n"
    }
   }
  },
  {
   "cell_type": "code",
   "execution_count": 21,
   "outputs": [],
   "source": [
    "census_df_counties_popest = census_df_counties[['CTYNAME','POPESTIMATE2010', 'POPESTIMATE2011','POPESTIMATE2012','POPESTIMATE2013','POPESTIMATE2014','POPESTIMATE2015']]"
   ],
   "metadata": {
    "collapsed": false,
    "pycharm": {
     "name": "#%%\n"
    }
   }
  },
  {
   "cell_type": "code",
   "execution_count": 22,
   "outputs": [],
   "source": [
    "# map? map(func, *iterables) --> map object\n",
    "# Für jedes County den Maximalwert der Popesimate Spalten finden\n",
    "census_df_counties_popest_max = map(max,\n",
    "                                    census_df_counties_popest['POPESTIMATE2010'],\n",
    "                                    census_df_counties_popest['POPESTIMATE2011'],\n",
    "                                    census_df_counties_popest['POPESTIMATE2012'],\n",
    "                                    census_df_counties_popest['POPESTIMATE2013'],\n",
    "                                    census_df_counties_popest['POPESTIMATE2014'],\n",
    "                                    census_df_counties_popest['POPESTIMATE2015'],\n",
    "                                    )\n",
    "census_df_counties_popest_max_array = np.array(list(census_df_counties_popest_max))"
   ],
   "metadata": {
    "collapsed": false,
    "pycharm": {
     "name": "#%%\n"
    }
   }
  },
  {
   "cell_type": "code",
   "execution_count": 23,
   "outputs": [],
   "source": [
    "# Für jedes County den Minimalwert der Popesimate Spalten finden\n",
    "census_df_counties_popest_min = map(min,\n",
    "                                    census_df_counties_popest['POPESTIMATE2010'],\n",
    "                                    census_df_counties_popest['POPESTIMATE2011'],\n",
    "                                    census_df_counties_popest['POPESTIMATE2012'],\n",
    "                                    census_df_counties_popest['POPESTIMATE2013'],\n",
    "                                    census_df_counties_popest['POPESTIMATE2014'],\n",
    "                                    census_df_counties_popest['POPESTIMATE2015'],\n",
    "                                    )\n",
    "census_df_counties_popest_min_array = np.array(list(census_df_counties_popest_min))"
   ],
   "metadata": {
    "collapsed": false,
    "pycharm": {
     "name": "#%%\n"
    }
   }
  },
  {
   "cell_type": "code",
   "execution_count": 24,
   "outputs": [],
   "source": [
    "# Differenz zwischen max und min Array berechnen\n",
    "census_df_counties_popest_diff = census_df_counties_popest_max_array - census_df_counties_popest_min_array"
   ],
   "metadata": {
    "collapsed": false,
    "pycharm": {
     "name": "#%%\n"
    }
   }
  },
  {
   "cell_type": "code",
   "execution_count": 25,
   "outputs": [
    {
     "data": {
      "text/plain": "CTYNAME            Harris County\nPOPESTIMATE2010          4108187\nPOPESTIMATE2011          4181238\nPOPESTIMATE2012          4262504\nPOPESTIMATE2013          4352462\nPOPESTIMATE2014          4447577\nPOPESTIMATE2015          4538028\nName: 2667, dtype: object"
     },
     "execution_count": 25,
     "metadata": {},
     "output_type": "execute_result"
    }
   ],
   "source": [
    "# argmax() Return int position of the largest value in the Series.\n",
    "census_df_counties_popest.iloc[census_df_counties_popest_diff.argmax()]"
   ],
   "metadata": {
    "collapsed": false,
    "pycharm": {
     "name": "#%%\n"
    }
   }
  },
  {
   "cell_type": "code",
   "execution_count": 26,
   "metadata": {
    "collapsed": true
   },
   "outputs": [
    {
     "data": {
      "text/plain": "'Harris County'"
     },
     "execution_count": 26,
     "metadata": {},
     "output_type": "execute_result"
    }
   ],
   "source": [
    "def answer_seven():\n",
    "    return census_df_counties_popest.iloc[census_df_counties_popest_diff.argmax()].values[0]\n",
    "\n",
    "answer_seven()"
   ]
  },
  {
   "cell_type": "markdown",
   "metadata": {},
   "source": [
    "### Question 8\n",
    "In this datafile, the United States is broken up into four regions using the \"REGION\" column. \n",
    "\n",
    "Create a query that finds the counties that belong to regions 1 or 2, whose name starts with 'Washington', and whose POPESTIMATE2015 was greater than their POPESTIMATE 2014.\n",
    "\n",
    "*This function should return a 5x2 DataFrame with the columns = ['STNAME', 'CTYNAME'] and the same index ID as the census_df (sorted ascending by index).*"
   ]
  },
  {
   "cell_type": "code",
   "execution_count": 27,
   "outputs": [],
   "source": [
    "census_df_query = census_df[(census_df[\"SUMLEV\"] == 50) &\n",
    "                            (census_df[\"REGION\"] <= 2) &\n",
    "                            (census_df[\"CTYNAME\"].str.startswith(\"Washington\")) &\n",
    "                            (census_df[\"POPESTIMATE2015\"] > census_df['POPESTIMATE2014'])]"
   ],
   "metadata": {
    "collapsed": false,
    "pycharm": {
     "name": "#%%\n"
    }
   }
  },
  {
   "cell_type": "code",
   "execution_count": 28,
   "outputs": [
    {
     "data": {
      "text/plain": "            STNAME            CTYNAME\n896           Iowa  Washington County\n1419     Minnesota  Washington County\n2345  Pennsylvania  Washington County\n2355  Rhode Island  Washington County\n3163     Wisconsin  Washington County",
      "text/html": "<div>\n<style scoped>\n    .dataframe tbody tr th:only-of-type {\n        vertical-align: middle;\n    }\n\n    .dataframe tbody tr th {\n        vertical-align: top;\n    }\n\n    .dataframe thead th {\n        text-align: right;\n    }\n</style>\n<table border=\"1\" class=\"dataframe\">\n  <thead>\n    <tr style=\"text-align: right;\">\n      <th></th>\n      <th>STNAME</th>\n      <th>CTYNAME</th>\n    </tr>\n  </thead>\n  <tbody>\n    <tr>\n      <th>896</th>\n      <td>Iowa</td>\n      <td>Washington County</td>\n    </tr>\n    <tr>\n      <th>1419</th>\n      <td>Minnesota</td>\n      <td>Washington County</td>\n    </tr>\n    <tr>\n      <th>2345</th>\n      <td>Pennsylvania</td>\n      <td>Washington County</td>\n    </tr>\n    <tr>\n      <th>2355</th>\n      <td>Rhode Island</td>\n      <td>Washington County</td>\n    </tr>\n    <tr>\n      <th>3163</th>\n      <td>Wisconsin</td>\n      <td>Washington County</td>\n    </tr>\n  </tbody>\n</table>\n</div>"
     },
     "execution_count": 28,
     "metadata": {},
     "output_type": "execute_result"
    }
   ],
   "source": [
    "def answer_eight():\n",
    "    return census_df_query[[\"STNAME\", \"CTYNAME\"]].sort_index()\n",
    "\n",
    "answer_eight()"
   ],
   "metadata": {
    "collapsed": false,
    "pycharm": {
     "name": "#%%\n"
    }
   }
  }
 ],
 "metadata": {
  "kernelspec": {
   "display_name": "Python 3",
   "language": "python",
   "name": "python3"
  },
  "language_info": {
   "codemirror_mode": {
    "name": "ipython",
    "version": 3
   },
   "file_extension": ".py",
   "mimetype": "text/x-python",
   "name": "python",
   "nbconvert_exporter": "python",
   "pygments_lexer": "ipython3",
   "version": "3.7.8"
  }
 },
 "nbformat": 4,
 "nbformat_minor": 4
}