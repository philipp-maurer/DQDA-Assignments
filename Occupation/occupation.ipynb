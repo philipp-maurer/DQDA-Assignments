{
 "cells": [
  {
   "cell_type": "markdown",
   "metadata": {},
   "source": [
    "# Occupation"
   ]
  },
  {
   "cell_type": "markdown",
   "metadata": {},
   "source": [
    "### Introduction:\n",
    "\n",
    "### Step 1. Import the necessary libraries"
   ]
  },
  {
   "cell_type": "code",
   "execution_count": 150,
   "metadata": {},
   "outputs": [],
   "source": [
    "import pandas as pd"
   ]
  },
  {
   "cell_type": "markdown",
   "metadata": {},
   "source": [
    "### Step 2. Import the dataset occupation.table"
   ]
  },
  {
   "cell_type": "code",
   "execution_count": 151,
   "metadata": {},
   "outputs": [],
   "source": [
    "df = pd.read_csv(\"./occupation.table.txt\", sep = \"|\")"
   ]
  },
  {
   "cell_type": "markdown",
   "metadata": {},
   "source": [
    "### Step 3. Assign it to a variable called users."
   ]
  },
  {
   "cell_type": "code",
   "execution_count": 152,
   "metadata": {},
   "outputs": [],
   "source": [
    "users = df"
   ]
  },
  {
   "cell_type": "code",
   "execution_count": 153,
   "outputs": [
    {
     "data": {
      "text/plain": "   user_id  age gender  occupation zip_code\n0        1   24      M  technician    85711\n1        2   53      F       other    94043\n2        3   23      M      writer    32067\n3        4   24      M  technician    43537\n4        5   33      F       other    15213",
      "text/html": "<div>\n<style scoped>\n    .dataframe tbody tr th:only-of-type {\n        vertical-align: middle;\n    }\n\n    .dataframe tbody tr th {\n        vertical-align: top;\n    }\n\n    .dataframe thead th {\n        text-align: right;\n    }\n</style>\n<table border=\"1\" class=\"dataframe\">\n  <thead>\n    <tr style=\"text-align: right;\">\n      <th></th>\n      <th>user_id</th>\n      <th>age</th>\n      <th>gender</th>\n      <th>occupation</th>\n      <th>zip_code</th>\n    </tr>\n  </thead>\n  <tbody>\n    <tr>\n      <th>0</th>\n      <td>1</td>\n      <td>24</td>\n      <td>M</td>\n      <td>technician</td>\n      <td>85711</td>\n    </tr>\n    <tr>\n      <th>1</th>\n      <td>2</td>\n      <td>53</td>\n      <td>F</td>\n      <td>other</td>\n      <td>94043</td>\n    </tr>\n    <tr>\n      <th>2</th>\n      <td>3</td>\n      <td>23</td>\n      <td>M</td>\n      <td>writer</td>\n      <td>32067</td>\n    </tr>\n    <tr>\n      <th>3</th>\n      <td>4</td>\n      <td>24</td>\n      <td>M</td>\n      <td>technician</td>\n      <td>43537</td>\n    </tr>\n    <tr>\n      <th>4</th>\n      <td>5</td>\n      <td>33</td>\n      <td>F</td>\n      <td>other</td>\n      <td>15213</td>\n    </tr>\n  </tbody>\n</table>\n</div>"
     },
     "execution_count": 153,
     "metadata": {},
     "output_type": "execute_result"
    }
   ],
   "source": [
    "users.head()"
   ],
   "metadata": {
    "collapsed": false,
    "pycharm": {
     "name": "#%%\n"
    }
   }
  },
  {
   "cell_type": "markdown",
   "metadata": {},
   "source": [
    "### Step 4. Discover what is the mean age per occupation"
   ]
  },
  {
   "cell_type": "code",
   "execution_count": 154,
   "metadata": {},
   "outputs": [
    {
     "data": {
      "text/plain": "occupation\nadministrator    38.75\nartist           31.39\ndoctor           43.57\neducator         42.01\nengineer         36.39\nentertainment    29.22\nexecutive        38.72\nhealthcare       41.56\nhomemaker        32.57\nlawyer           36.75\nlibrarian        40.00\nmarketing        37.62\nnone             26.56\nother            34.52\nprogrammer       33.12\nretired          63.07\nsalesman         35.67\nscientist        35.55\nstudent          22.08\ntechnician       33.15\nwriter           36.31\nName: age, dtype: float64"
     },
     "execution_count": 154,
     "metadata": {},
     "output_type": "execute_result"
    }
   ],
   "source": [
    "users.groupby(\"occupation\").age.mean().round(2)"
   ]
  },
  {
   "cell_type": "markdown",
   "metadata": {},
   "source": [
    "### Step 5. Discover the Male ratio per occupation and sort it from the most to the least"
   ]
  },
  {
   "cell_type": "code",
   "execution_count": 155,
   "outputs": [],
   "source": [
    "users_occupation_male = users[users[\"gender\"] == \"M\"]"
   ],
   "metadata": {
    "collapsed": false,
    "pycharm": {
     "name": "#%%\n"
    }
   }
  },
  {
   "cell_type": "code",
   "execution_count": 156,
   "outputs": [
    {
     "data": {
      "text/plain": "doctor           1.00\nengineer         0.97\ntechnician       0.96\nretired          0.93\nprogrammer       0.91\nexecutive        0.91\nscientist        0.90\nentertainment    0.89\nlawyer           0.83\nsalesman         0.75\neducator         0.73\nstudent          0.69\nother            0.66\nmarketing        0.62\nwriter           0.58\nnone             0.56\nadministrator    0.54\nartist           0.54\nlibrarian        0.43\nhealthcare       0.31\nhomemaker        0.14\nName: occupation, dtype: float64"
     },
     "execution_count": 156,
     "metadata": {},
     "output_type": "execute_result"
    }
   ],
   "source": [
    "users_occupation_male_ratio = users_occupation_male[\"occupation\"].value_counts() / users[\"occupation\"].value_counts()\n",
    "users_occupation_male_ratio.sort_values(ascending = False).round(2)"
   ],
   "metadata": {
    "collapsed": false,
    "pycharm": {
     "name": "#%%\n"
    }
   }
  },
  {
   "cell_type": "markdown",
   "metadata": {},
   "source": [
    "### Step 6. For each occupation, calculate the minimum and maximum ages"
   ]
  },
  {
   "cell_type": "code",
   "execution_count": 157,
   "metadata": {},
   "outputs": [
    {
     "data": {
      "text/plain": "               minimum age  maximum age\noccupation                             \nadministrator           21           70\nartist                  19           48\ndoctor                  28           64\neducator                23           63\nengineer                22           70\nentertainment           15           50\nexecutive               22           69\nhealthcare              22           62\nhomemaker               20           50\nlawyer                  21           53\nlibrarian               23           69\nmarketing               24           55\nnone                    11           55\nother                   13           64\nprogrammer              20           63\nretired                 51           73\nsalesman                18           66\nscientist               23           55\nstudent                  7           42\ntechnician              21           55\nwriter                  18           60",
      "text/html": "<div>\n<style scoped>\n    .dataframe tbody tr th:only-of-type {\n        vertical-align: middle;\n    }\n\n    .dataframe tbody tr th {\n        vertical-align: top;\n    }\n\n    .dataframe thead th {\n        text-align: right;\n    }\n</style>\n<table border=\"1\" class=\"dataframe\">\n  <thead>\n    <tr style=\"text-align: right;\">\n      <th></th>\n      <th>minimum age</th>\n      <th>maximum age</th>\n    </tr>\n    <tr>\n      <th>occupation</th>\n      <th></th>\n      <th></th>\n    </tr>\n  </thead>\n  <tbody>\n    <tr>\n      <th>administrator</th>\n      <td>21</td>\n      <td>70</td>\n    </tr>\n    <tr>\n      <th>artist</th>\n      <td>19</td>\n      <td>48</td>\n    </tr>\n    <tr>\n      <th>doctor</th>\n      <td>28</td>\n      <td>64</td>\n    </tr>\n    <tr>\n      <th>educator</th>\n      <td>23</td>\n      <td>63</td>\n    </tr>\n    <tr>\n      <th>engineer</th>\n      <td>22</td>\n      <td>70</td>\n    </tr>\n    <tr>\n      <th>entertainment</th>\n      <td>15</td>\n      <td>50</td>\n    </tr>\n    <tr>\n      <th>executive</th>\n      <td>22</td>\n      <td>69</td>\n    </tr>\n    <tr>\n      <th>healthcare</th>\n      <td>22</td>\n      <td>62</td>\n    </tr>\n    <tr>\n      <th>homemaker</th>\n      <td>20</td>\n      <td>50</td>\n    </tr>\n    <tr>\n      <th>lawyer</th>\n      <td>21</td>\n      <td>53</td>\n    </tr>\n    <tr>\n      <th>librarian</th>\n      <td>23</td>\n      <td>69</td>\n    </tr>\n    <tr>\n      <th>marketing</th>\n      <td>24</td>\n      <td>55</td>\n    </tr>\n    <tr>\n      <th>none</th>\n      <td>11</td>\n      <td>55</td>\n    </tr>\n    <tr>\n      <th>other</th>\n      <td>13</td>\n      <td>64</td>\n    </tr>\n    <tr>\n      <th>programmer</th>\n      <td>20</td>\n      <td>63</td>\n    </tr>\n    <tr>\n      <th>retired</th>\n      <td>51</td>\n      <td>73</td>\n    </tr>\n    <tr>\n      <th>salesman</th>\n      <td>18</td>\n      <td>66</td>\n    </tr>\n    <tr>\n      <th>scientist</th>\n      <td>23</td>\n      <td>55</td>\n    </tr>\n    <tr>\n      <th>student</th>\n      <td>7</td>\n      <td>42</td>\n    </tr>\n    <tr>\n      <th>technician</th>\n      <td>21</td>\n      <td>55</td>\n    </tr>\n    <tr>\n      <th>writer</th>\n      <td>18</td>\n      <td>60</td>\n    </tr>\n  </tbody>\n</table>\n</div>"
     },
     "execution_count": 157,
     "metadata": {},
     "output_type": "execute_result"
    }
   ],
   "source": [
    "users_occupation_age_min = users.groupby(\"occupation\").min().age\n",
    "users_occupation_age_max = users.groupby(\"occupation\").max().age\n",
    "users_occupation_age = pd.concat([occupation_age_min, occupation_age_max], axis=1)\n",
    "users_occupation_age.columns = [\"minimum age\", \"maximum age\"]\n",
    "users_occupation_age"
   ]
  },
  {
   "cell_type": "markdown",
   "metadata": {},
   "source": [
    "### Step 7. For each combination of occupation and gender, calculate the mean age"
   ]
  },
  {
   "cell_type": "code",
   "execution_count": 158,
   "metadata": {},
   "outputs": [
    {
     "data": {
      "text/plain": "occupation     gender\nadministrator  F         40.64\n               M         37.16\nartist         F         30.31\n               M         32.33\ndoctor         M         43.57\neducator       F         39.12\n               M         43.10\nengineer       F         29.50\n               M         36.60\nentertainment  F         31.00\n               M         29.00\nexecutive      F         44.00\n               M         38.17\nhealthcare     F         39.82\n               M         45.40\nhomemaker      F         34.17\n               M         23.00\nlawyer         F         39.50\n               M         36.20\nlibrarian      F         40.00\n               M         40.00\nmarketing      F         37.20\n               M         37.88\nnone           F         36.50\n               M         18.60\nother          F         35.47\n               M         34.03\nprogrammer     F         32.17\n               M         33.22\nretired        F         70.00\n               M         62.54\nsalesman       F         27.00\n               M         38.56\nscientist      F         28.33\n               M         36.32\nstudent        F         20.75\n               M         22.67\ntechnician     F         38.00\n               M         32.96\nwriter         F         37.63\n               M         35.35\nName: age, dtype: float64"
     },
     "execution_count": 158,
     "metadata": {},
     "output_type": "execute_result"
    }
   ],
   "source": [
    "users.groupby([\"occupation\", \"gender\"]).age.mean().round(2)"
   ]
  },
  {
   "cell_type": "markdown",
   "metadata": {},
   "source": [
    "### Step 8.  For each occupation present the percentage of women and men"
   ]
  },
  {
   "cell_type": "code",
   "execution_count": 159,
   "outputs": [],
   "source": [
    "users_occupation_female = users[users[\"gender\"] == \"F\"]"
   ],
   "metadata": {
    "collapsed": false,
    "pycharm": {
     "name": "#%%\n"
    }
   }
  },
  {
   "cell_type": "code",
   "execution_count": 160,
   "outputs": [],
   "source": [
    "users_occupation_female_ratio = users_occupation_female[\"occupation\"].value_counts() / users[\"occupation\"].value_counts()"
   ],
   "metadata": {
    "collapsed": false,
    "pycharm": {
     "name": "#%%\n"
    }
   }
  },
  {
   "cell_type": "code",
   "execution_count": 161,
   "outputs": [
    {
     "data": {
      "text/plain": "               % Male  % Female\nadministrator   54.43     45.57\nartist          53.57     46.43\ndoctor         100.00      0.00\neducator        72.63     27.37\nengineer        97.01      2.99\nentertainment   88.89     11.11\nexecutive       90.62      9.38\nhealthcare      31.25     68.75\nhomemaker       14.29     85.71\nlawyer          83.33     16.67\nlibrarian       43.14     56.86\nmarketing       61.54     38.46\nnone            55.56     44.44\nother           65.71     34.29\nprogrammer      90.91      9.09\nretired         92.86      7.14\nsalesman        75.00     25.00\nscientist       90.32      9.68\nstudent         69.39     30.61\ntechnician      96.30      3.70\nwriter          57.78     42.22",
      "text/html": "<div>\n<style scoped>\n    .dataframe tbody tr th:only-of-type {\n        vertical-align: middle;\n    }\n\n    .dataframe tbody tr th {\n        vertical-align: top;\n    }\n\n    .dataframe thead th {\n        text-align: right;\n    }\n</style>\n<table border=\"1\" class=\"dataframe\">\n  <thead>\n    <tr style=\"text-align: right;\">\n      <th></th>\n      <th>% Male</th>\n      <th>% Female</th>\n    </tr>\n  </thead>\n  <tbody>\n    <tr>\n      <th>administrator</th>\n      <td>54.43</td>\n      <td>45.57</td>\n    </tr>\n    <tr>\n      <th>artist</th>\n      <td>53.57</td>\n      <td>46.43</td>\n    </tr>\n    <tr>\n      <th>doctor</th>\n      <td>100.00</td>\n      <td>0.00</td>\n    </tr>\n    <tr>\n      <th>educator</th>\n      <td>72.63</td>\n      <td>27.37</td>\n    </tr>\n    <tr>\n      <th>engineer</th>\n      <td>97.01</td>\n      <td>2.99</td>\n    </tr>\n    <tr>\n      <th>entertainment</th>\n      <td>88.89</td>\n      <td>11.11</td>\n    </tr>\n    <tr>\n      <th>executive</th>\n      <td>90.62</td>\n      <td>9.38</td>\n    </tr>\n    <tr>\n      <th>healthcare</th>\n      <td>31.25</td>\n      <td>68.75</td>\n    </tr>\n    <tr>\n      <th>homemaker</th>\n      <td>14.29</td>\n      <td>85.71</td>\n    </tr>\n    <tr>\n      <th>lawyer</th>\n      <td>83.33</td>\n      <td>16.67</td>\n    </tr>\n    <tr>\n      <th>librarian</th>\n      <td>43.14</td>\n      <td>56.86</td>\n    </tr>\n    <tr>\n      <th>marketing</th>\n      <td>61.54</td>\n      <td>38.46</td>\n    </tr>\n    <tr>\n      <th>none</th>\n      <td>55.56</td>\n      <td>44.44</td>\n    </tr>\n    <tr>\n      <th>other</th>\n      <td>65.71</td>\n      <td>34.29</td>\n    </tr>\n    <tr>\n      <th>programmer</th>\n      <td>90.91</td>\n      <td>9.09</td>\n    </tr>\n    <tr>\n      <th>retired</th>\n      <td>92.86</td>\n      <td>7.14</td>\n    </tr>\n    <tr>\n      <th>salesman</th>\n      <td>75.00</td>\n      <td>25.00</td>\n    </tr>\n    <tr>\n      <th>scientist</th>\n      <td>90.32</td>\n      <td>9.68</td>\n    </tr>\n    <tr>\n      <th>student</th>\n      <td>69.39</td>\n      <td>30.61</td>\n    </tr>\n    <tr>\n      <th>technician</th>\n      <td>96.30</td>\n      <td>3.70</td>\n    </tr>\n    <tr>\n      <th>writer</th>\n      <td>57.78</td>\n      <td>42.22</td>\n    </tr>\n  </tbody>\n</table>\n</div>"
     },
     "execution_count": 161,
     "metadata": {},
     "output_type": "execute_result"
    }
   ],
   "source": [
    "users_occupation_gender_ratio = pd.concat([users_occupation_male_ratio*100, users_occupation_female_ratio*100], axis=1)\n",
    "users_occupation_gender_ratio.columns = [\"% Male\", \"% Female\"]\n",
    "users_occupation_gender_ratio.fillna(0).round(2)"
   ],
   "metadata": {
    "collapsed": false,
    "pycharm": {
     "name": "#%%\n"
    }
   }
  }
 ],
 "metadata": {
  "kernelspec": {
   "display_name": "Python 3",
   "language": "python",
   "name": "python3"
  },
  "language_info": {
   "codemirror_mode": {
    "name": "ipython",
    "version": 3
   },
   "file_extension": ".py",
   "mimetype": "text/x-python",
   "name": "python",
   "nbconvert_exporter": "python",
   "pygments_lexer": "ipython3",
   "version": "3.7.8"
  }
 },
 "nbformat": 4,
 "nbformat_minor": 1
}